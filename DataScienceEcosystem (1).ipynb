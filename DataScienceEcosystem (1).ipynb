{
 "cells": [
  {
   "cell_type": "markdown",
   "id": "e581d4fa-e788-4f52-a73e-01f30e71f4b6",
   "metadata": {},
   "source": [
    "# Data Science Tools and Ecosystem"
   ]
  },
  {
   "cell_type": "markdown",
   "id": "f1861c83-52c7-4100-9999-c1d15466cfe3",
   "metadata": {},
   "source": [
    "### In this notebook, Data Science Tools and Ecosystem are summarized."
   ]
  },
  {
   "cell_type": "markdown",
   "id": "9a97b16d-caa3-4ec0-954b-68681e514708",
   "metadata": {},
   "source": [
    "**Objectives:**\n",
    "* Popular Languages Data Scientists use\n",
    "* Commonly used libraries used by Data Scientists\n",
    "* Python arithmetic equations"
   ]
  },
  {
   "cell_type": "markdown",
   "id": "086500f2-ecb0-4579-b2a8-4974bafe82a9",
   "metadata": {},
   "source": [
    "### Some of the popular languages Data Scientists use are: \n",
    "1. Python\n",
    "2. R\n",
    "3. Java"
   ]
  },
  {
   "cell_type": "markdown",
   "id": "fe1c198c-cd16-4f80-9b44-e6dcfb8f6f6f",
   "metadata": {},
   "source": [
    "### Some of the commonly used libraries used by Data Scientists include: \n",
    "1. NumPy\n",
    "2. Pandas\n",
    "3. TensorFlow"
   ]
  },
  {
   "cell_type": "markdown",
   "id": "3cb56fbf-5d8c-4e54-b393-1d62dc8313a3",
   "metadata": {},
   "source": [
    "|Data Science Tools|\n",
    "|------------------|\n",
    "|Apache Spark|\n",
    "|Hadoop|\n",
    "|Python|"
   ]
  },
  {
   "cell_type": "markdown",
   "id": "c0910af9-a7c5-45eb-91ec-59aa210cac51",
   "metadata": {},
   "source": [
    "### Below are a few examples of evaluating arithmetic expressions in Python"
   ]
  },
  {
   "cell_type": "code",
   "execution_count": 3,
   "id": "0b111d16-f36d-4b8d-8e09-03b0be8cfa7b",
   "metadata": {
    "tags": []
   },
   "outputs": [
    {
     "data": {
      "text/plain": [
       "17"
      ]
     },
     "execution_count": 3,
     "metadata": {},
     "output_type": "execute_result"
    }
   ],
   "source": [
    "# This is a simple arithmetic expression to multiply then add integers\n",
    "(3 * 4) + 5"
   ]
  },
  {
   "cell_type": "code",
   "execution_count": 5,
   "id": "afffe549-7915-43ba-bec1-76077c024931",
   "metadata": {
    "tags": []
   },
   "outputs": [
    {
     "name": "stdout",
     "output_type": "stream",
     "text": [
      "Number of hours in 200 minutes is: 3.3333333333333335\n"
     ]
    }
   ],
   "source": [
    "# This will convert 200 minutes to hours by dividing by 60\n",
    "minutes = 200\n",
    "numHours = 200/60\n",
    "print(\"Number of hours in 200 minutes is: \" + str(numHours))"
   ]
  },
  {
   "cell_type": "markdown",
   "id": "109c6517-0c8f-4c27-aaaa-b26396b15ba7",
   "metadata": {},
   "source": [
    "## Author\n",
    "Rohit Sayeeganesh"
   ]
  }
 ],
 "metadata": {
  "kernelspec": {
   "display_name": "Python",
   "language": "python",
   "name": "conda-env-python-py"
  },
  "language_info": {
   "codemirror_mode": {
    "name": "ipython",
    "version": 3
   },
   "file_extension": ".py",
   "mimetype": "text/x-python",
   "name": "python",
   "nbconvert_exporter": "python",
   "pygments_lexer": "ipython3",
   "version": "3.7.12"
  }
 },
 "nbformat": 4,
 "nbformat_minor": 5
}
